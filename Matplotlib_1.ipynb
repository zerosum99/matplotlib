{
 "cells": [
  {
   "cell_type": "markdown",
   "metadata": {},
   "source": [
    "conda 실행방법\n",
    "  - condat에서 가상환경 시작 source activate {가상환경 이름}\n",
    "  - 가상환경 확인하기 :  명령어 창 앞에 (가상환경 이름) \n",
    "  - jupyter notebook 구동하기 : jupyter notebook으로 실행하기\n",
    "  - 서비스 종료하기 : source deactivate\n",
    "  - !pip install 모듈명 --upgrade를 하고 난 다음 서버를 다시 구동해서 처리할 것\n",
    "  \n",
    "  "
   ]
  },
  {
   "cell_type": "markdown",
   "metadata": {},
   "source": [
    "matplotlib을  jupyter notebook 내의 결과를 넣기위해 사용 "
   ]
  },
  {
   "cell_type": "code",
   "execution_count": 1,
   "metadata": {
    "collapsed": true
   },
   "outputs": [],
   "source": [
    "%matplotlib inline"
   ]
  },
  {
   "cell_type": "markdown",
   "metadata": {},
   "source": [
    "파일 생성하기\n",
    " - %%writefile 파일명을 사용해서 하나의 파일을 만든다."
   ]
  },
  {
   "cell_type": "code",
   "execution_count": 2,
   "metadata": {
    "collapsed": false
   },
   "outputs": [
    {
     "name": "stdout",
     "output_type": "stream",
     "text": [
      "Overwriting data1.txt\n"
     ]
    }
   ],
   "source": [
    "%%writefile data1.txt\n",
    "0 0\n",
    "1 1\n",
    "2 4\n",
    "3 9\n",
    "4 16\n",
    "5 25\n",
    "6 36"
   ]
  },
  {
   "cell_type": "markdown",
   "metadata": {},
   "source": [
    "zip 함수\n",
    "\n",
    "  두개 이상의 시퀀스를 받아서 첫번째와 두번째별로 묶어 리스트로 제공하는 함수"
   ]
  },
  {
   "cell_type": "code",
   "execution_count": 3,
   "metadata": {
    "collapsed": false
   },
   "outputs": [
    {
     "data": {
      "text/plain": [
       "[(1, 2, 3, 4), (5, 6, 7, 8)]"
      ]
     },
     "execution_count": 3,
     "metadata": {},
     "output_type": "execute_result"
    }
   ],
   "source": [
    "zip(*[[1,5],[2,6],[3,7],[4,8]])"
   ]
  },
  {
   "cell_type": "markdown",
   "metadata": {},
   "source": [
    "A, B = [(1,2,3,4), (5,6,7,8)]\n",
    "\n",
    "리스트의 원소들을 unpack 하기\n",
    "  - 좌측에 리스트 원소의 갯수만큼 변수를 정의해서 리스트를 unpack 한다.\n",
    "  "
   ]
  },
  {
   "cell_type": "code",
   "execution_count": 4,
   "metadata": {
    "collapsed": false
   },
   "outputs": [
    {
     "name": "stdout",
     "output_type": "stream",
     "text": [
      "(1, 2, 3, 4)\n",
      "(5, 6, 7, 8)\n"
     ]
    }
   ],
   "source": [
    "A, B = [(1,2,3,4), (5,6,7,8)]\n",
    "print A\n",
    "print B"
   ]
  },
  {
   "cell_type": "code",
   "execution_count": 3,
   "metadata": {
    "collapsed": false
   },
   "outputs": [
    {
     "data": {
      "image/png": "[encoded data removed]",
      "text/plain": [
       "<matplotlib.figure.Figure at 0x105cf9b10>"
      ]
     },
     "metadata": {},
     "output_type": "display_data"
    }
   ],
   "source": [
    "import matplotlib.pyplot as plt\n",
    "\n",
    "with open('data1.txt','r') as f :\n",
    "    X, Y = zip(*[[float(s) for s in line.split()] for line in f])\n",
    "    \n",
    "plt.xlabel(\" index \")\n",
    "plt.ylabel(\" pow   \")\n",
    "\n",
    "plt.axis([0,6,0,36])\n",
    "    \n",
    "plt.plot(X,Y)\n",
    "plt.show()"
   ]
  },
  {
   "cell_type": "markdown",
   "metadata": {},
   "source": [
    "numpy 모듈을 사용\n",
    " - np.loadtxt를 이용해서 데이터 파일 로딩하면 numpy.ndarray로 데이터를 넣는다.\n",
    " - shape가 (7,2) 일 경우, 첫번째 열은 data[:,0], 두번째 열은 data[:,1]\n",
    " "
   ]
  },
  {
   "cell_type": "code",
   "execution_count": 7,
   "metadata": {
    "collapsed": false
   },
   "outputs": [
    {
     "name": "stdout",
     "output_type": "stream",
     "text": [
      "[[  0.   0.]\n",
      " [  1.   1.]\n",
      " [  2.   4.]\n",
      " [  3.   9.]\n",
      " [  4.  16.]\n",
      " [  5.  25.]\n",
      " [  6.  36.]]\n",
      "<type 'numpy.ndarray'>\n",
      "(7, 2)\n"
     ]
    },
    {
     "data": {
      "image/png": "[encoded data removed]",
      "text/plain": [
       "<matplotlib.figure.Figure at 0x10684e4d0>"
      ]
     },
     "metadata": {},
     "output_type": "display_data"
    }
   ],
   "source": [
    "import numpy as np\n",
    "import matplotlib.pyplot as plt\n",
    "data = np.loadtxt('data1.txt')\n",
    "print data\n",
    "print type(data)\n",
    "print data.shape\n",
    "plt.plot(data[:,0], data[:,1])\n",
    "plt.show()"
   ]
  },
  {
   "cell_type": "markdown",
   "metadata": {},
   "source": [
    "\n",
    "전치행렬을 만들고 이를 Y측에 넣어서 처리하는 그래프로 전환\n",
    "  -  2개의 그래프를 그린다.\n",
    "  -  첫번째 그래프는 파란색이고 두번째는 초록색\n",
    "  "
   ]
  },
  {
   "cell_type": "code",
   "execution_count": 8,
   "metadata": {
    "collapsed": false
   },
   "outputs": [
    {
     "name": "stdout",
     "output_type": "stream",
     "text": [
      "[[  0.   0.]\n",
      " [  1.   1.]\n",
      " [  2.   4.]\n",
      " [  3.   9.]\n",
      " [  4.  16.]\n",
      " [  5.  25.]\n",
      " [  6.  36.]]\n",
      "<type 'numpy.ndarray'>\n",
      "(7, 2)\n"
     ]
    },
    {
     "data": {
      "image/png": "[encoded data removed]",
      "text/plain": [
       "<matplotlib.figure.Figure at 0x106abbb50>"
      ]
     },
     "metadata": {},
     "output_type": "display_data"
    }
   ],
   "source": [
    "import numpy as np\n",
    "import matplotlib.pyplot as plt\n",
    "data = np.loadtxt('data1.txt')\n",
    "print data\n",
    "print type(data)\n",
    "print data.shape\n",
    "for col in data.T :\n",
    "   plt.plot(data[:,0], col)\n",
    "plt.show()"
   ]
  },
  {
   "cell_type": "code",
   "execution_count": 9,
   "metadata": {
    "collapsed": false
   },
   "outputs": [
    {
     "name": "stdout",
     "output_type": "stream",
     "text": [
      "<type 'numpy.ndarray'>\n",
      "(100, 2)\n"
     ]
    }
   ],
   "source": [
    "import numpy as np\n",
    "data = np.random.rand(100,2)\n",
    "print type(data)\n",
    "print data.shape\n"
   ]
  },
  {
   "cell_type": "markdown",
   "metadata": {},
   "source": [
    "scatter 함수에 color에 색을 지정해서 출력"
   ]
  },
  {
   "cell_type": "code",
   "execution_count": 19,
   "metadata": {
    "collapsed": false
   },
   "outputs": [
    {
     "data": {
      "image/png": "[encoded data removed]",
      "text/plain": [
       "<matplotlib.figure.Figure at 0x106d23190>"
      ]
     },
     "metadata": {},
     "output_type": "display_data"
    }
   ],
   "source": [
    "plt.scatter(data[:50,0],data[50:,0], color='b')\n",
    "plt.scatter(data[:50,1],data[50:,1], color='r')\n",
    "plt.show()"
   ]
  },
  {
   "cell_type": "code",
   "execution_count": 23,
   "metadata": {
    "collapsed": false
   },
   "outputs": [
    {
     "name": "stdout",
     "output_type": "stream",
     "text": [
      "[0, 1, 2, 3, 4]\n"
     ]
    },
    {
     "data": {
      "image/png": "[encoded data removed]",
      "text/plain": [
       "<matplotlib.figure.Figure at 0x106f089d0>"
      ]
     },
     "metadata": {},
     "output_type": "display_data"
    }
   ],
   "source": [
    "data = [ 6.,12.,23.,45.,50.]\n",
    "print range(len(data))\n",
    "plt.bar(range(len(data)),data, color='g',width=1.)\n",
    "plt.show()"
   ]
  },
  {
   "cell_type": "code",
   "execution_count": 24,
   "metadata": {
    "collapsed": false
   },
   "outputs": [
    {
     "name": "stdout",
     "output_type": "stream",
     "text": [
      "[0, 1, 2, 3, 4]\n"
     ]
    },
    {
     "data": {
      "image/png": "[encoded data removed]",
      "text/plain": [
       "<matplotlib.figure.Figure at 0x106ff0ad0>"
      ]
     },
     "metadata": {},
     "output_type": "display_data"
    }
   ],
   "source": [
    "data = [ 6.,12.,23.,45.,50.]\n",
    "print range(len(data))\n",
    "plt.bar(range(len(data)),data, color='g',width=0.5)\n",
    "plt.show()"
   ]
  },
  {
   "cell_type": "markdown",
   "metadata": {},
   "source": [
    "수평 막대그래프로 그릴 때는 width를 height로 변경해야 한다.\n",
    "  - 막대그래프와 치이점은  x축과 y축이 변경\n",
    "  "
   ]
  },
  {
   "cell_type": "code",
   "execution_count": 26,
   "metadata": {
    "collapsed": false
   },
   "outputs": [
    {
     "name": "stdout",
     "output_type": "stream",
     "text": [
      "[0, 1, 2, 3, 4]\n"
     ]
    },
    {
     "data": {
      "image/png": "[encoded data removed]",
      "text/plain": [
       "<matplotlib.figure.Figure at 0x106ad4210>"
      ]
     },
     "metadata": {},
     "output_type": "display_data"
    }
   ],
   "source": [
    "data = [ 6.,12.,23.,45.,50.]\n",
    "print range(len(data))\n",
    "plt.barh(range(len(data)),data, color='g', height=0.5)\n",
    "plt.show()"
   ]
  },
  {
   "cell_type": "markdown",
   "metadata": {},
   "source": [
    "막대 그래프를 연속해서 그릴때 각 x축에 대해 중심 위치를 표시\n",
    " - list + 숫자는 브로드캐스팅되어 동일한 숫자 리스트로 변환해서 계산됨\n",
    " - width도 간격을 맞춰야 하므로 동일하게 width 범위를 부여해야 함\n",
    " "
   ]
  },
  {
   "cell_type": "code",
   "execution_count": 32,
   "metadata": {
    "collapsed": false
   },
   "outputs": [
    {
     "name": "stdout",
     "output_type": "stream",
     "text": [
      "[ 0.25  1.25  2.25  3.25]\n",
      "<Container object of 4 artists>\n",
      "<Container object of 4 artists>\n",
      "<Container object of 4 artists>\n"
     ]
    },
    {
     "data": {
      "image/png": "[encoded data removed]",
      "text/plain": [
       "<matplotlib.figure.Figure at 0x105d6b090>"
      ]
     },
     "metadata": {},
     "output_type": "display_data"
    }
   ],
   "source": [
    "data = [[2,20,15,10], [4,24,33,44],[2,32,15,26]]\n",
    "x = np.arange(4)\n",
    "print x+0.25\n",
    "a = plt.bar(x+0.00,data[0],color='r',width=0.25)\n",
    "b = plt.bar(x+0.25,data[1],color='g',width=0.25)\n",
    "c = plt.bar(x+0.50,data[2],width=0.25)\n",
    "print a\n",
    "print b\n",
    "print c\n",
    "plt.show()"
   ]
  },
  {
   "cell_type": "markdown",
   "metadata": {},
   "source": [
    "위의 plt.bar함수의 연속을 통합해서 한줄로 표현\n",
    "lambda함수를 즉시 실행해서 color 값에 대응\n",
    "  - \"b g r\".split()의 결과는 ['b','g','r']이고 이를 index검색해서 결과를 처리"
   ]
  },
  {
   "cell_type": "code",
   "execution_count": 38,
   "metadata": {
    "collapsed": false
   },
   "outputs": [
    {
     "data": {
      "image/png": "[encoded data removed]",
      "text/plain": [
       "<matplotlib.figure.Figure at 0x106b17d10>"
      ]
     },
     "metadata": {},
     "output_type": "display_data"
    }
   ],
   "source": [
    "\n",
    "for i, row in enumerate(data):\n",
    "    x =np.arange(len(row))\n",
    "    plt.bar(x+(0.25*i),row,color= (lambda i: (\"b g r\".split())[i])(i), width=0.25)\n",
    "    \n",
    "plt.show()"
   ]
  },
  {
   "cell_type": "markdown",
   "metadata": {},
   "source": [
    "텐서 플로우에서 계산한 값을 matplotlib으로 표시하기\n"
   ]
  },
  {
   "cell_type": "code",
   "execution_count": 39,
   "metadata": {
    "collapsed": true
   },
   "outputs": [],
   "source": [
    "import tensorflow as tf"
   ]
  },
  {
   "cell_type": "code",
   "execution_count": 57,
   "metadata": {
    "collapsed": false
   },
   "outputs": [
    {
     "data": {
      "image/png": "[encoded data removed]",
      "text/plain": [
       "<matplotlib.figure.Figure at 0x10beb7a90>"
      ]
     },
     "metadata": {},
     "output_type": "display_data"
    },
    {
     "name": "stdout",
     "output_type": "stream",
     "text": [
      "[[ 10.  17.  18.]\n",
      " [ 22.  37.  40.]\n",
      " [ 34.  57.  62.]]\n"
     ]
    }
   ],
   "source": [
    "a= np.array([1,2,3,4,5,6], dtype=np.float32)\n",
    "b= np.array([2,3,4,4,7,7], dtype=np.float32)\n",
    "c=tf.matmul(a.reshape(3,2),b.reshape(2,3))\n",
    "\n",
    "sess=tf.Session()\n",
    "a=sess.run(c)\n",
    "for i, row in enumerate(a):\n",
    "    x =np.arange(len(row))\n",
    "    plt.bar(x+(0.25*i),row,color= (lambda i: (\"b g r\".split())[i])(i), width=0.25)\n",
    "    \n",
    "plt.show()\n",
    "print a"
   ]
  },
  {
   "cell_type": "code",
   "execution_count": null,
   "metadata": {
    "collapsed": true
   },
   "outputs": [],
   "source": []
  }
 ],
 "metadata": {
  "kernelspec": {
   "display_name": "Python 2",
   "language": "python",
   "name": "python2"
  },
  "language_info": {
   "codemirror_mode": {
    "name": "ipython",
    "version": 2
   },
   "file_extension": ".py",
   "mimetype": "text/x-python",
   "name": "python",
   "nbconvert_exporter": "python",
   "pygments_lexer": "ipython2",
   "version": "2.7.11"
  }
 },
 "nbformat": 4,
 "nbformat_minor": 0
}
