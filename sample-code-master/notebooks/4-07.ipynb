{
 "cells": [
  {
   "cell_type": "markdown",
   "metadata": {},
   "source": [
    "## 第4章 Matplotlibでグラフを 描画しよう\n",
    "\n",
    "### 4-7: 箱ひげ図"
   ]
  },
  {
   "cell_type": "code",
   "execution_count": 1,
   "metadata": {
    "collapsed": true
   },
   "outputs": [],
   "source": [
    "import matplotlib.pyplot as plt"
   ]
  },
  {
   "cell_type": "code",
   "execution_count": 2,
   "metadata": {},
   "outputs": [
    {
     "data": {
      "image/png": "[encoded data removed]",
      "text/plain": [
       "<matplotlib.figure.Figure at 0x2078df01f28>"
      ]
     },
     "metadata": {},
     "output_type": "display_data"
    }
   ],
   "source": [
    "# リスト4.7.1：箱ひげ図の描画\n",
    "plt.style.use(\"ggplot\")\n",
    "x = [1, 2, 3, 3, 11, 20]\n",
    "fig = plt.figure()\n",
    "ax = fig.add_subplot(111)\n",
    "ax.boxplot(x)\n",
    "plt.show()"
   ]
  },
  {
   "cell_type": "code",
   "execution_count": 3,
   "metadata": {},
   "outputs": [
    {
     "data": {
      "image/png": "[encoded data removed]",
      "text/plain": [
       "<matplotlib.figure.Figure at 0x2078e064ba8>"
      ]
     },
     "metadata": {},
     "output_type": "display_data"
    }
   ],
   "source": [
    "# リスト4.7.2：複数の箱ひげ図の描画\n",
    "# 複数のリストをリストにセット\n",
    "x = [[1, 2, 3, 3, 11, 20], [1, 2, 9, 10, 15, 16]]\n",
    "labels = [\"A\", \"B\"]\n",
    "fig = plt.figure()\n",
    "ax = fig.add_subplot(111)\n",
    "# データとラベルを指定\n",
    "ax.boxplot(x, labels=labels)\n",
    "plt.show()"
   ]
  },
  {
   "cell_type": "code",
   "execution_count": 4,
   "metadata": {},
   "outputs": [
    {
     "data": {
      "text/html": [
       "<div>\n",
       "<table border=\"1\" class=\"dataframe\">\n",
       "  <thead>\n",
       "    <tr style=\"text-align: right;\">\n",
       "      <th></th>\n",
       "      <th>name</th>\n",
       "      <th>genre</th>\n",
       "      <th>type</th>\n",
       "      <th>episodes</th>\n",
       "      <th>rating</th>\n",
       "      <th>members</th>\n",
       "    </tr>\n",
       "    <tr>\n",
       "      <th>anime_id</th>\n",
       "      <th></th>\n",
       "      <th></th>\n",
       "      <th></th>\n",
       "      <th></th>\n",
       "      <th></th>\n",
       "      <th></th>\n",
       "    </tr>\n",
       "  </thead>\n",
       "  <tbody>\n",
       "    <tr>\n",
       "      <th>32281</th>\n",
       "      <td>Kimi no Na wa.</td>\n",
       "      <td>Drama, Romance, School, Supernatural</td>\n",
       "      <td>Movie</td>\n",
       "      <td>1</td>\n",
       "      <td>9.37</td>\n",
       "      <td>200630</td>\n",
       "    </tr>\n",
       "    <tr>\n",
       "      <th>5114</th>\n",
       "      <td>Fullmetal Alchemist: Brotherhood</td>\n",
       "      <td>Action, Adventure, Drama, Fantasy, Magic, Mili...</td>\n",
       "      <td>TV</td>\n",
       "      <td>64</td>\n",
       "      <td>9.26</td>\n",
       "      <td>793665</td>\n",
       "    </tr>\n",
       "    <tr>\n",
       "      <th>28977</th>\n",
       "      <td>Gintama°</td>\n",
       "      <td>Action, Comedy, Historical, Parody, Samurai, S...</td>\n",
       "      <td>TV</td>\n",
       "      <td>51</td>\n",
       "      <td>9.25</td>\n",
       "      <td>114262</td>\n",
       "    </tr>\n",
       "  </tbody>\n",
       "</table>\n",
       "</div>"
      ],
      "text/plain": [
       "                                      name  \\\n",
       "anime_id                                     \n",
       "32281                       Kimi no Na wa.   \n",
       "5114      Fullmetal Alchemist: Brotherhood   \n",
       "28977                             Gintama°   \n",
       "\n",
       "                                                      genre   type  episodes  \\\n",
       "anime_id                                                                       \n",
       "32281                  Drama, Romance, School, Supernatural  Movie         1   \n",
       "5114      Action, Adventure, Drama, Fantasy, Magic, Mili...     TV        64   \n",
       "28977     Action, Comedy, Historical, Parody, Samurai, S...     TV        51   \n",
       "\n",
       "          rating  members  \n",
       "anime_id                   \n",
       "32281       9.37   200630  \n",
       "5114        9.26   793665  \n",
       "28977       9.25   114262  "
      ]
     },
     "execution_count": 4,
     "metadata": {},
     "output_type": "execute_result"
    }
   ],
   "source": [
    "# リスト4.7.3：anime_master.csvファイルの読み込み\n",
    "import os\n",
    "import pandas as pd\n",
    "\n",
    "base_url = \"https://raw.githubusercontent.com/practical-jupyter/sample-data/master/anime/\"\n",
    "anime_master_csv = os.path.join(base_url, \"anime_master.csv\")\n",
    "df = pd.read_csv(anime_master_csv, index_col=\"anime_id\")\n",
    "df.head(3)"
   ]
  },
  {
   "cell_type": "code",
   "execution_count": 5,
   "metadata": {},
   "outputs": [
    {
     "data": {
      "image/png": "[encoded data removed]",
      "text/plain": [
       "<matplotlib.figure.Figure at 0x2078df01710>"
      ]
     },
     "metadata": {},
     "output_type": "display_data"
    }
   ],
   "source": [
    "# リスト4.7.4：配給種別ごとのエピソード数を可視化\n",
    "labels = []\n",
    "types_list = []\n",
    "# 配給種別ごとのエピソード数の情報をリスト化\n",
    "for label, df_per_type in df.groupby(\"type\"):\n",
    "    labels.append(label)\n",
    "    types_list.append(df_per_type[\"episodes\"].tolist())\n",
    "fig = plt.figure()\n",
    "ax = fig.add_subplot(111)\n",
    "ax.boxplot(types_list, labels=labels)\n",
    "plt.show()"
   ]
  },
  {
   "cell_type": "code",
   "execution_count": 6,
   "metadata": {},
   "outputs": [
    {
     "data": {
      "image/png": "[encoded data removed]",
      "text/plain": [
       "<matplotlib.figure.Figure at 0x2078f001b70>"
      ]
     },
     "metadata": {},
     "output_type": "display_data"
    }
   ],
   "source": [
    "# リスト4.7.5：描画範囲を限定した箱ひげ図\n",
    "fig = plt.figure(figsize=(8, 6))\n",
    "ax = fig.add_subplot(111)\n",
    "ax.boxplot(types_list, labels=labels)\n",
    "# Y軸の描画範囲を0から100までに限定\n",
    "ax.set_ylim(0, 100)\n",
    "plt.show()"
   ]
  },
  {
   "cell_type": "code",
   "execution_count": 7,
   "metadata": {},
   "outputs": [
    {
     "data": {
      "text/plain": [
       "count    3330.0\n",
       "mean       37.5\n",
       "std        83.3\n",
       "min         3.0\n",
       "25%        13.0\n",
       "50%        25.0\n",
       "75%        43.0\n",
       "max      1818.0\n",
       "Name: episodes, dtype: float64"
      ]
     },
     "execution_count": 7,
     "metadata": {},
     "output_type": "execute_result"
    }
   ],
   "source": [
    "# リスト4.7.6：四分位点の値をdescribe()で確認\n",
    "df[\"episodes\"][df[\"type\"] == \"TV\"].describe().round(1)"
   ]
  },
  {
   "cell_type": "code",
   "execution_count": 8,
   "metadata": {
    "collapsed": true
   },
   "outputs": [],
   "source": [
    "# リスト4.7.7：データセットの作成\n",
    "import numpy as np\n",
    "\n",
    "np.random.seed(3)\n",
    "dataset = [np.random.normal(20 + mu, 5, 1000) for mu in range(1, 5)]"
   ]
  },
  {
   "cell_type": "code",
   "execution_count": 9,
   "metadata": {
    "collapsed": true
   },
   "outputs": [],
   "source": [
    "# リスト4.7.8：書式辞書の作成\n",
    "# はずれ値の書式辞書\n",
    "flierprop = {\"color\": \"#EC407A\",\n",
    "             \"marker\": \"o\",\n",
    "             \"markerfacecolor\": \"#2196F3\",\n",
    "             \"markeredgecolor\": \"white\",\n",
    "             \"markersize\": 5,\n",
    "             \"linestyle\": \"None\",\n",
    "             \"linewidth\": 0.1}\n",
    "# 箱の書式辞書\n",
    "boxprop = {\"color\": \"#2196F3\", \n",
    "           \"facecolor\": \"#BBDEFB\", \n",
    "           \"linewidth\": 1, \n",
    "           \"linestyle\": \"-\"}\n",
    "# ヒゲの書式辞書\n",
    "whiskerprop = {\"color\": \"#2196F3\", \n",
    "               \"linewidth\": 1, \n",
    "               \"linestyle\": \"--\"}\n",
    "# ヒゲ末端キャップの書式辞書\n",
    "capprop = {\"color\": \"#2196F3\", \n",
    "           \"linewidth\": 1, \n",
    "           \"linestyle\": \":\"}\n",
    "# 中央値の書式辞書\n",
    "medianprop = {\"color\": \"#2196F3\", \n",
    "              \"linewidth\": 2, \n",
    "              \"linestyle\": \"-\"}\n",
    "# 平均値の書式辞書\n",
    "meanprop = {\"color\": \"#2196F3\",\n",
    "            \"marker\": \"^\",\n",
    "            \"markerfacecolor\": \"#2196F3\",\n",
    "            \"markeredgecolor\": \"white\",\n",
    "            \"markersize\": 10,\n",
    "            \"linewidth\": 1,\n",
    "            \"linestyle\": \"\"}"
   ]
  },
  {
   "cell_type": "code",
   "execution_count": 10,
   "metadata": {},
   "outputs": [
    {
     "data": {
      "image/png": "[encoded data removed]",
      "text/plain": [
       "<matplotlib.figure.Figure at 0x2078ee307b8>"
      ]
     },
     "metadata": {},
     "output_type": "display_data"
    }
   ],
   "source": [
    "# リスト4.7.9：箱ひげ図の書式一括設定\n",
    "fig = plt.figure()\n",
    "ax = fig.add_subplot(111)\n",
    "ax.boxplot(\n",
    "    dataset,\n",
    "    patch_artist=\"Patch\",  # 書式を設定する場合は 「Patch」 を選択\n",
    "    labels=[\"A\", \"B\", \"C\", \"D\"],  # 項目ラベル\n",
    "    showmeans=True,  # 平均値の描画\n",
    "    flierprops=flierprop,  # はずれ値の書式設定\n",
    "    boxprops=boxprop,  # ボックスの書式設定\n",
    "    whiskerprops=whiskerprop,  # ヒゲの書式設定\n",
    "    capprops=capprop,  # ヒゲのキャップの書式設定\n",
    "    medianprops=medianprop,  # 中央値の書式設定\n",
    "    meanprops=meanprop,  # 平均値の書式設定\n",
    ")\n",
    "plt.show()"
   ]
  },
  {
   "cell_type": "code",
   "execution_count": 11,
   "metadata": {},
   "outputs": [
    {
     "data": {
      "image/png": "[encoded data removed]",
      "text/plain": [
       "<matplotlib.figure.Figure at 0x2078e0a6978>"
      ]
     },
     "metadata": {},
     "output_type": "display_data"
    }
   ],
   "source": [
    "# リスト4.7.10：ボックスごとに書式を設定する\n",
    "# 図の描画\n",
    "fig = plt.figure()\n",
    "ax = fig.add_subplot(111)\n",
    "bp = ax.boxplot(\n",
    "    dataset,\n",
    "    patch_artist=\"Patch\",\n",
    "    labels=[\"A\", \"B\", \"C\", \"D\"],\n",
    "    meanline=True,\n",
    "    showmeans=True,\n",
    ")\n",
    "# カラーセット\n",
    "colors1 = [\"#2196F3\", \"#43A047\", \"#FBC02D\", \"#FB8C00\"]\n",
    "colors2 = [\"#BBDEFB\", \"#C8E6C9\", \"#FFF9C4\", \"#FFE0B2\"]\n",
    "# 上下に分かれた要素に設定するための用の数列\n",
    "n = [0, 0, 1, 1, 2, 2, 3, 3]\n",
    "# 書式設定\n",
    "# ボックスとはずれ値、 中央値の書式設定\n",
    "for params in zip(bp[\"boxes\"], bp[\"fliers\"], bp[\"medians\"], colors1, colors2):\n",
    "    bpb, bpf, med, color1, color2 = params\n",
    "    # ボックスの書式設定\n",
    "    bpb.set_color(color1)\n",
    "    bpb.set_facecolor(color2)\n",
    "    bpb.set_linewidth(2)\n",
    "    # 外れ値の書式設定\n",
    "    bpf.set(marker=\"^\", color=color2)\n",
    "    bpf.set_markeredgecolor(\"white\")\n",
    "    bpf.set_markerfacecolor(color1)\n",
    "    # 中央値の書式設定\n",
    "    med.set_color(color1)\n",
    "    med.set_linewidth(2)\n",
    "# ヒゲとヒゲの末端キャップの書式設定\n",
    "for bpc, bpw, m in zip(bp[\"caps\"], bp[\"whiskers\"], n):\n",
    "    bpc.set_color(colors1[m])\n",
    "    bpc.set_linewidth(2)\n",
    "    bpw.set_color(colors1[m])\n",
    "    bpw.set_linewidth(2)\n",
    "# 平均値の書式設定\n",
    "for mean, color2 in zip(bp[\"means\"], colors2):\n",
    "    mean.set_color(\"grey\")\n",
    "    mean.set_linewidth(2)\n",
    "    mean.set_linestyle(\"--\")\n",
    "plt.show()"
   ]
  },
  {
   "cell_type": "code",
   "execution_count": null,
   "metadata": {
    "collapsed": true
   },
   "outputs": [],
   "source": []
  }
 ],
 "metadata": {
  "kernelspec": {
   "display_name": "Python 3",
   "language": "python",
   "name": "python3"
  },
  "language_info": {
   "codemirror_mode": {
    "name": "ipython",
    "version": 3
   },
   "file_extension": ".py",
   "mimetype": "text/x-python",
   "name": "python",
   "nbconvert_exporter": "python",
   "pygments_lexer": "ipython3",
   "version": "3.6.6"
  }
 },
 "nbformat": 4,
 "nbformat_minor": 2
}
